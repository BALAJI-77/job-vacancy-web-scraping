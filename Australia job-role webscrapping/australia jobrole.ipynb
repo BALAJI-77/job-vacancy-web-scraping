{
 "cells": [
  {
   "cell_type": "code",
   "execution_count": null,
   "metadata": {},
   "outputs": [],
   "source": [
    "from selenium import webdriver\n",
    "from selenium.webdriver.common.keys import Keys\n",
    "from selenium.webdriver.support.ui import WebDriverWait\n",
    "from selenium.webdriver.support import expected_conditions as EC\n",
    "from selenium.webdriver.common.by import By\n",
    "from selenium.webdriver import ActionChains\n",
    "from selenium.common.exceptions import TimeoutException\n",
    "import time\n",
    "import pandas as pd\n",
    "from openpyxl import Workbook\n",
    "import pandas as pd\n",
    "\n",
    "all_links=[]\n",
    "driver= webdriver.Chrome()\n",
    "driver.get(\"https://www.ibisworld.com/au/list-of-enterprise-profiles/\")\n",
    "time.sleep(15)\n",
    "element = driver.find_element_by_class_name(\"container-4cols\")\n",
    "all_options = element.find_elements_by_tag_name(\"span\")\n",
    "for element2 in all_options:\n",
    "    print(element2.text)\n",
    "    # all_links2.append(element2.text)\n",
    "# print(element.text)\n",
    "# all_options = element.find_elements_by_tag_name(\"span\")\n",
    "# time.sleep(4)\n",
    "# for option in all_options:\n",
    "#     all_links.append(option.text)\n"
   ]
  },
  {
   "cell_type": "code",
   "execution_count": null,
   "metadata": {},
   "outputs": [],
   "source": [
    "from selenium import webdriver\n",
    "from selenium.webdriver.common.keys import Keys\n",
    "from selenium.webdriver.support.ui import WebDriverWait\n",
    "from selenium.webdriver.support import expected_conditions as EC\n",
    "from selenium.webdriver.common.by import By\n",
    "from selenium.webdriver import ActionChains\n",
    "from selenium.common.exceptions import TimeoutException\n",
    "import time\n",
    "import pandas as pd\n",
    "from openpyxl import Workbook\n",
    "import pandas as pd\n",
    "\n",
    "all_links=[]\n",
    "driver= webdriver.Chrome()\n",
    "driver.get(\"https://www.ibisworld.com/au/list-of-enterprise-profiles/\")\n",
    "time.sleep(15)\n",
    "element = driver.find_element_by_class_name(\"core-profiles\")\n",
    "all_options = element.find_elements_by_tag_name(\"span\")\n",
    "for element2 in all_options:\n",
    "    print(element2.text)\n",
    "\n"
   ]
  }
 ],
 "metadata": {
  "language_info": {
   "name": "python"
  },
  "orig_nbformat": 4
 },
 "nbformat": 4,
 "nbformat_minor": 2
}
